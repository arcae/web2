{
 "cells": [
  {
   "cell_type": "code",
   "execution_count": null,
   "metadata": {},
   "outputs": [],
   "source": [
    "def fibo(n):\n",
    "    if n == 1 or n == 2:\n",
    "        return 1\n",
    "    return fibo(n-1) + fibo(n-2)"
   ]
  },
  {
   "cell_type": "code",
   "execution_count": null,
   "metadata": {},
   "outputs": [],
   "source": [
    "def fiboloop(n):\n",
    "    a,b = 1,1\n",
    "    for x in range(n):\n",
    "        a,b = b,a+b\n",
    "    return a"
   ]
  },
  {
   "cell_type": "code",
   "execution_count": null,
   "metadata": {},
   "outputs": [],
   "source": [
    "for x in range(1,10):\n",
    "    print(fibo(x))"
   ]
  },
  {
   "cell_type": "code",
   "execution_count": null,
   "metadata": {},
   "outputs": [],
   "source": [
    "for x in range(1,10):\n",
    "    print(fiboloop(x))"
   ]
  },
  {
   "cell_type": "code",
   "execution_count": null,
   "metadata": {},
   "outputs": [],
   "source": [
    "def check_prime(n):\n",
    "    for number in range(2,n):\n",
    "        if n % number == 0:\n",
    "            print(f'The number {n} is not prime')\n",
    "            print(f'{n} can be divided by {number}')\n",
    "            break\n",
    "    else:\n",
    "        print(f'The number {n} is prime!')\n",
    "        \n",
    "    "
   ]
  },
  {
   "cell_type": "code",
   "execution_count": null,
   "metadata": {},
   "outputs": [],
   "source": [
    "check_prime(977)"
   ]
  },
  {
   "cell_type": "code",
   "execution_count": null,
   "metadata": {},
   "outputs": [],
   "source": [
    "def list_primes(n):\n",
    "    for x in range(2,n):\n",
    "        prime = True\n",
    "        for i in range(2,x):\n",
    "            if x % i == 0:\n",
    "                prime = False\n",
    "        if prime:\n",
    "            print(x)\n",
    "        \n",
    "    \n",
    "    "
   ]
  },
  {
   "cell_type": "code",
   "execution_count": null,
   "metadata": {},
   "outputs": [],
   "source": [
    "check_prime(10)"
   ]
  },
  {
   "cell_type": "code",
   "execution_count": null,
   "metadata": {},
   "outputs": [],
   "source": [
    "list_primes(7)"
   ]
  },
  {
   "cell_type": "code",
   "execution_count": 27,
   "metadata": {},
   "outputs": [],
   "source": [
    "def change_return():\n",
    "    cost = float(input('Please enter the total cost of purchase: '))\n",
    "    print('The total cost of the purchase is ${}'.format(cost))\n",
    "    money_given = float(input('Please enter the total money given: '))\n",
    "    print('The total money given is ${}'.format(money_given))\n",
    "    change_in_cents = int((money_given - cost)*100)\n",
    "    print('The change in cents is {}'.format(change_in_cents))\n",
    "    \n",
    "    quarters = 0\n",
    "    dimes = 0\n",
    "    nickles = 0\n",
    "    pennies = 0\n",
    "    \n",
    "    while change_in_cents > 0:\n",
    "        \n",
    "        #print('Before IF')\n",
    "        if change_in_cents > 25:\n",
    "            quarters = int(change_in_cents / 25)\n",
    "            #print('The number of quarters is {}'.format(quarters))\n",
    "            change_in_cents = change_in_cents - quarters*25\n",
    "            #print('change in cent is now {}'.format(change_in_cents))\n",
    "            \n",
    "        elif change_in_cents < 25 and change_in_cents >=10:\n",
    "            #print('I am in the second block')\n",
    "            dimes = int(change_in_cents / 10)\n",
    "            change_in_cents = change_in_cents - dimes*10\n",
    "            #print('The number of dimes is {}'.format(dimes))\n",
    "            #print('change in cent is now {}'.format(change_in_cents))\n",
    "            \n",
    "        elif change_in_cents < 10 and change_in_cents >= 5:\n",
    "            #print('I am in the third block')\n",
    "            nickles = int(change_in_cents / 5)\n",
    "            change_in_cents = change_in_cents - nickles*5\n",
    "            #print('The number of nickles is {}'.format(nickles))\n",
    "            #print('change in cent is now {}'.format(change_in_cents))\n",
    "            \n",
    "        elif change_in_cents < 5:\n",
    "            #print('I am in the fourth block')\n",
    "            pennies = int(change_in_cents / 1)\n",
    "            change_in_cents = change_in_cents - pennies*1\n",
    "            #print('The number of pennies is {}'.format(pennies))\n",
    "            #print('change in cent is now {}'.format(change_in_cents))\n",
    "            \n",
    "            \n",
    "    print('################################################')\n",
    "    print('The number of quarters to be returned in change is {}'.format(quarters))\n",
    "    print('The number of dimes to be returned in change is {}'.format(dimes))\n",
    "    print('The number of nickles to be returned in change is {}'.format(nickles))\n",
    "    print('The number of pennies to be returned in change is {}'.format(pennies))\n",
    "              \n",
    "          \n",
    " \n",
    "            \n",
    "            \n",
    "        \n",
    "   \n",
    "     \n",
    "            \n",
    "        \n",
    "    \n",
    "    \n",
    "   \n",
    "        \n",
    "    \n",
    "   \n",
    "    "
   ]
  },
  {
   "cell_type": "code",
   "execution_count": 28,
   "metadata": {},
   "outputs": [
    {
     "name": "stdout",
     "output_type": "stream",
     "text": [
      "Please enter the total cost of purchase: 67.88\n",
      "The total cost of the purchase is $67.88\n",
      "Please enter the total money given: 120.00\n",
      "The total money given is $120.0\n",
      "The change in cents is 5212\n",
      "################################################\n",
      "The number of quarters to be returned in change is 208\n",
      "The number of dimes to be returned in change is 1\n",
      "The number of nickles to be returned in change is 0\n",
      "The number of pennies to be returned in change is 2\n"
     ]
    }
   ],
   "source": [
    "change_return()"
   ]
  },
  {
   "cell_type": "code",
   "execution_count": 7,
   "metadata": {},
   "outputs": [],
   "source": [
    "def bin_to_dec():\n",
    "    bin_string = input('Please enter the binary digits: ')\n",
    "    \n",
    "    #print('The length of the binary string is {}'.format(len(bin_string)))\n",
    "    \n",
    "    dec = 0\n",
    "    for i in range(0,len(bin_string)):\n",
    "        dec = dec + int(bin_string[i])*2**(len(bin_string)-1-i)\n",
    "    \n",
    "    print(f'The decimal equivalent of {bin_string} is {dec}')\n",
    "    \n",
    "        \n",
    "    \n",
    "        \n",
    "        "
   ]
  },
  {
   "cell_type": "code",
   "execution_count": 8,
   "metadata": {},
   "outputs": [
    {
     "name": "stdout",
     "output_type": "stream",
     "text": [
      "Please enter the binary digits: 1101101\n",
      "The decimal equivalent of 1101101 is 109\n"
     ]
    }
   ],
   "source": [
    "bin_to_dec()"
   ]
  },
  {
   "cell_type": "code",
   "execution_count": 4,
   "metadata": {},
   "outputs": [],
   "source": [
    "def dec_to_binary():\n",
    "    decimal = int(input('Please enter a decimal number: '))\n",
    "    \n",
    "    binary = []\n",
    "    \n",
    "    while decimal != 1:\n",
    "        \n",
    "        binary.append(decimal % 2)\n",
    "        decimal =  int(decimal / 2)\n",
    "        \n",
    "    binary.append(decimal)\n",
    "    \n",
    "    binary = binary[::-1]\n",
    "    \n",
    "    #print('The binary equivalent is: {}'.format(binary))\n",
    "    \n",
    "    for i in range(len(binary)):\n",
    "        print(binary[i],end='')\n",
    "    \n",
    "    #print(binary[::-1])\n",
    "        \n",
    "    "
   ]
  },
  {
   "cell_type": "code",
   "execution_count": 5,
   "metadata": {},
   "outputs": [
    {
     "name": "stdout",
     "output_type": "stream",
     "text": [
      "Please enter a decimal number: 234\n",
      "11101010"
     ]
    }
   ],
   "source": [
    "dec_to_binary()\n"
   ]
  },
  {
   "cell_type": "code",
   "execution_count": 1,
   "metadata": {},
   "outputs": [],
   "source": [
    "def merge_divide(alist):\n",
    "    import pdb\n",
    "    print(\"Splitting  {}\".format(alist))\n",
    "    if len(alist) > 1:\n",
    "        \n",
    "        middle = len(alist)//2\n",
    "        \n",
    "        print('The middle is {}'.format(middle))\n",
    "\n",
    "        llist = alist[:middle]\n",
    "        rlist = alist[middle:]\n",
    "\n",
    "        print('This is llist {}'.format(llist))\n",
    "        print('This is rlist {}'.format(rlist))\n",
    "        merge_divide(llist)\n",
    "        merge_divide(rlist)\n",
    "        #pdb.set_trace()\n",
    "        \n",
    "        i = 0\n",
    "        m = 0\n",
    "        k = 0\n",
    "        \n",
    "        while i < len(llist) and m < len(rlist):\n",
    "            #pdb.set_trace()\n",
    "            if llist[i] < rlist[m]:\n",
    "                print('left half is less than right half')\n",
    "                alist[k] = llist[i]\n",
    "                i = i+1\n",
    "                print('The value of i = {},  m = {} and k = {}'.format(i,m,k))\n",
    "            else:\n",
    "                print('left half is greater than right half')\n",
    "                alist[k] = rlist[m]\n",
    "                m = m +1\n",
    "                print('The value of i = {},  m = {} and k = {}'.format(i,m,k))\n",
    "            k = k + 1\n",
    "            \n",
    "            \n",
    "        while i < len(llist):\n",
    "            print('Here i is less than len(llist)')\n",
    "            alist[k] = llist[i]\n",
    "            i = i + 1\n",
    "            k = k +1\n",
    "            print('The value of i = {},  m = {} and k = {}'.format(i,m,k))\n",
    "        while m < len(rlist):\n",
    "            print('Here m is less than len(rlist)')\n",
    "            alist[k] = rlist[m]\n",
    "            m = m + 1\n",
    "            k = k + 1\n",
    "            print('The value of i = {},  m = {} and k = {}'.format(i,m,k))\n",
    "            \n",
    "    print(\"Merging {}\".format(alist))\n",
    "            \n",
    "            \n",
    "    \n",
    "     \n",
    "      \n"
   ]
  },
  {
   "cell_type": "code",
   "execution_count": 4,
   "metadata": {},
   "outputs": [],
   "source": [
    "alist = [116,-4,819,102]"
   ]
  },
  {
   "cell_type": "code",
   "execution_count": 5,
   "metadata": {},
   "outputs": [
    {
     "name": "stdout",
     "output_type": "stream",
     "text": [
      "Splitting  [116, -4, 819, 102]\n",
      "The middle is 2\n",
      "This is llist [116, -4]\n",
      "This is rlist [819, 102]\n",
      "Splitting  [116, -4]\n",
      "The middle is 1\n",
      "This is llist [116]\n",
      "This is rlist [-4]\n",
      "Splitting  [116]\n",
      "Merging [116]\n",
      "Splitting  [-4]\n",
      "Merging [-4]\n",
      "left half is greater than right half\n",
      "The value of i = 0,  m = 1 and k = 0\n",
      "Here i is less than len(llist)\n",
      "The value of i = 1,  m = 1 and k = 2\n",
      "Merging [-4, 116]\n",
      "Splitting  [819, 102]\n",
      "The middle is 1\n",
      "This is llist [819]\n",
      "This is rlist [102]\n",
      "Splitting  [819]\n",
      "Merging [819]\n",
      "Splitting  [102]\n",
      "Merging [102]\n",
      "left half is greater than right half\n",
      "The value of i = 0,  m = 1 and k = 0\n",
      "Here i is less than len(llist)\n",
      "The value of i = 1,  m = 1 and k = 2\n",
      "Merging [102, 819]\n",
      "left half is less than right half\n",
      "The value of i = 1,  m = 0 and k = 0\n",
      "left half is greater than right half\n",
      "The value of i = 1,  m = 1 and k = 1\n",
      "left half is less than right half\n",
      "The value of i = 2,  m = 1 and k = 2\n",
      "Here m is less than len(rlist)\n",
      "The value of i = 2,  m = 2 and k = 4\n",
      "Merging [-4, 102, 116, 819]\n"
     ]
    }
   ],
   "source": [
    "merge_divide(alist)"
   ]
  },
  {
   "cell_type": "code",
   "execution_count": 55,
   "metadata": {},
   "outputs": [
    {
     "data": {
      "text/plain": [
       "1"
      ]
     },
     "execution_count": 55,
     "metadata": {},
     "output_type": "execute_result"
    }
   ],
   "source": [
    "3//2"
   ]
  },
  {
   "cell_type": "code",
   "execution_count": null,
   "metadata": {},
   "outputs": [],
   "source": []
  },
  {
   "cell_type": "code",
   "execution_count": null,
   "metadata": {},
   "outputs": [],
   "source": []
  },
  {
   "cell_type": "code",
   "execution_count": null,
   "metadata": {},
   "outputs": [],
   "source": []
  }
 ],
 "metadata": {
  "kernelspec": {
   "display_name": "Python 3",
   "language": "python",
   "name": "python3"
  },
  "language_info": {
   "codemirror_mode": {
    "name": "ipython",
    "version": 3
   },
   "file_extension": ".py",
   "mimetype": "text/x-python",
   "name": "python",
   "nbconvert_exporter": "python",
   "pygments_lexer": "ipython3",
   "version": "3.6.4"
  }
 },
 "nbformat": 4,
 "nbformat_minor": 2
}
